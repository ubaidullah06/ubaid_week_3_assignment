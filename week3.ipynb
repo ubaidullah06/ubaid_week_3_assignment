{
 "cells": [
  {
   "cell_type": "markdown",
   "id": "7c87e8c3-e83f-46f1-9e0c-757adf1cfd73",
   "metadata": {},
   "source": [
    "Assignment 3: Modular Programming\n"
   ]
  },
  {
   "cell_type": "markdown",
   "id": "0a313ca2-ecfd-418a-bcb5-82954c931a9d",
   "metadata": {},
   "source": [
    "i-Write a program that defines a function to check\r\n",
    "whether a number is prime. Use this function in a\r\n",
    "script to find all prime numbers within a given\r\n",
    "range.\r"
   ]
  },
  {
   "cell_type": "code",
   "execution_count": 90,
   "id": "7ac269d2-35d7-43f9-b126-c6dd95d5a3a0",
   "metadata": {},
   "outputs": [],
   "source": [
    "def check_prime(x):\n",
    "    if x <= 1:\n",
    "        return False\n",
    "    elif x == 2 or x == 3:\n",
    "        print(\"the given number is prime numbber :\",x)\n",
    "    elif x % 2 == 0 or x % 3 == 0:\n",
    "        print(\"The number is not prime :\",x)\n",
    "    else:\n",
    "        for i in range(5,int(x**0.5)+1,6):\n",
    "            if x % i == 0 or x % (i+2) == 0:\n",
    "                print(\"the number is not prime :\",x)\n",
    "                return True\n",
    "        print(\"the number is a prime number :\",x) "
   ]
  },
  {
   "cell_type": "code",
   "execution_count": 92,
   "id": "fcbb59d4-5893-4058-bb02-3544ccd1ad8c",
   "metadata": {},
   "outputs": [
    {
     "name": "stdin",
     "output_type": "stream",
     "text": [
      "Enter a number:  29\n"
     ]
    },
    {
     "name": "stdout",
     "output_type": "stream",
     "text": [
      "the number is a prime number : 29\n"
     ]
    }
   ],
   "source": [
    "x = int(input(\"Enter a number: \"))\n",
    "check_prime(x)"
   ]
  },
  {
   "cell_type": "markdown",
   "id": "bcdd3bca-6f4d-4517-88ed-746d8c2d77e7",
   "metadata": {},
   "source": [
    "ii-Create a Python module that contains functions\n",
    "for common mathematical operations (e.g.,\n",
    "factorial, greatest common divisor). Write a script\n",
    "that imports this module and uses its functions.\n"
   ]
  },
  {
   "cell_type": "code",
   "execution_count": 94,
   "id": "e9b77b58-acab-4091-baec-36ff066d2580",
   "metadata": {},
   "outputs": [],
   "source": [
    "def GCD ():\n",
    "   a = int(input(\"Enter 1st number of which you want to find the GCD or HCF \"))\n",
    "   b = int(input(\"Enter 2nd number of which you want to find the GCD or HCF \"))\n",
    "   gcd = math.gcd(a,b)\n",
    "   print(\"The GCD of\", a, \"and\", b, \"is:\", gcd)\n",
    "def  factorial():\n",
    "    c = int(input(\"Enter the number of which you want to find the factorial: \"))\n",
    "    fact = math.factorial(c)\n",
    "    print(\"The factorail of a given number is: \",fact)\n",
    "    "
   ]
  },
  {
   "cell_type": "code",
   "execution_count": 53,
   "id": "479a1259-729b-4c50-b0ea-496ee717add1",
   "metadata": {},
   "outputs": [
    {
     "name": "stdin",
     "output_type": "stream",
     "text": [
      "what operation you want to perform GCD/factorial factorial\n",
      "Enter the number of which you want to find the factorial:  8\n"
     ]
    },
    {
     "name": "stdout",
     "output_type": "stream",
     "text": [
      "The factorail of a given number is:  40320\n"
     ]
    }
   ],
   "source": [
    "import math\n",
    "user_input = input(\"what operation you want to perform GCD/factorial\").lower()\n",
    "if user_input == \"gcd\":\n",
    "    GCD()\n",
    "if  user_input == \"factorial\":\n",
    "    factorial()\n",
    "    "
   ]
  },
  {
   "cell_type": "markdown",
   "id": "3c79500a-5ce9-44ff-b598-10ff7dd2efb8",
   "metadata": {},
   "source": [
    "iii-Implement a program that calculates the\n",
    "Fibonacci sequence up to a specified number\n",
    "using both iterative and recursive approaches."
   ]
  },
  {
   "cell_type": "code",
   "execution_count": 128,
   "id": "1df4a545-ba98-4aac-a6f3-23db4ec846d4",
   "metadata": {},
   "outputs": [],
   "source": [
    "def recur_fabonacci():\n",
    "    if n <= 0:\n",
    "        return []\n",
    "    if n == 1:\n",
    "        return [0]\n",
    "    sequence = [0, 1]\n",
    "    for i in range(2,n):\n",
    "        next_value = sequence[i-1] + sequence[i-2]\n",
    "        sequence.append(next_value)\n",
    "    return sequence"
   ]
  },
  {
   "cell_type": "code",
   "execution_count": 152,
   "id": "3c5d9774-78c2-4600-a325-943bf877f803",
   "metadata": {},
   "outputs": [],
   "source": [
    "def iter_fabonacci(n):\n",
    "    y,z = 0,1\n",
    "    for i in range(0,n):\n",
    "        print(y,end = \",\")\n",
    "        y , z = z , y+z"
   ]
  },
  {
   "cell_type": "code",
   "execution_count": 154,
   "id": "01b69bf0-2448-4238-9e75-9b964e2627ca",
   "metadata": {},
   "outputs": [
    {
     "name": "stdin",
     "output_type": "stream",
     "text": [
      "Enter the numebr to which you find fabonacci sequence : 9\n"
     ]
    },
    {
     "name": "stdout",
     "output_type": "stream",
     "text": [
      "0,1,1,2,3,5,8,13,21,"
     ]
    },
    {
     "data": {
      "text/plain": [
       "[0, 1, 1, 2, 3, 5, 8, 13, 21]"
      ]
     },
     "execution_count": 154,
     "metadata": {},
     "output_type": "execute_result"
    }
   ],
   "source": [
    "n = int(input(\"Enter the numebr to which you find fabonacci sequence :\"))\n",
    "iter_fabonacci(n)\n",
    "recur_fabonacci()"
   ]
  },
  {
   "cell_type": "code",
   "execution_count": null,
   "id": "31970c2e-589f-49c3-abe7-fe955ae04361",
   "metadata": {},
   "outputs": [],
   "source": []
  }
 ],
 "metadata": {
  "kernelspec": {
   "display_name": "Python 3 (ipykernel)",
   "language": "python",
   "name": "python3"
  },
  "language_info": {
   "codemirror_mode": {
    "name": "ipython",
    "version": 3
   },
   "file_extension": ".py",
   "mimetype": "text/x-python",
   "name": "python",
   "nbconvert_exporter": "python",
   "pygments_lexer": "ipython3",
   "version": "3.12.4"
  }
 },
 "nbformat": 4,
 "nbformat_minor": 5
}
